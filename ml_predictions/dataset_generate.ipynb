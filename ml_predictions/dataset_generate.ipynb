{
 "cells": [
  {
   "cell_type": "code",
   "execution_count": 3,
   "metadata": {},
   "outputs": [
    {
     "name": "stdout",
     "output_type": "stream",
     "text": [
      "Collecting pandas\n",
      "  Downloading pandas-2.2.3-cp312-cp312-win_amd64.whl.metadata (19 kB)\n",
      "Collecting numpy\n",
      "  Downloading numpy-2.2.4-cp312-cp312-win_amd64.whl.metadata (60 kB)\n",
      "Requirement already satisfied: python-dateutil>=2.8.2 in d:\\nsbm_project\\warehouse-management-system\\.venv\\lib\\site-packages (from pandas) (2.9.0.post0)\n",
      "Collecting pytz>=2020.1 (from pandas)\n",
      "  Downloading pytz-2025.2-py2.py3-none-any.whl.metadata (22 kB)\n",
      "Collecting tzdata>=2022.7 (from pandas)\n",
      "  Downloading tzdata-2025.2-py2.py3-none-any.whl.metadata (1.4 kB)\n",
      "Requirement already satisfied: six>=1.5 in d:\\nsbm_project\\warehouse-management-system\\.venv\\lib\\site-packages (from python-dateutil>=2.8.2->pandas) (1.17.0)\n",
      "Downloading pandas-2.2.3-cp312-cp312-win_amd64.whl (11.5 MB)\n",
      "   ---------------------------------------- 0.0/11.5 MB ? eta -:--:--\n",
      "   ---- ----------------------------------- 1.3/11.5 MB 8.4 MB/s eta 0:00:02\n",
      "   ----------- ---------------------------- 3.4/11.5 MB 9.2 MB/s eta 0:00:01\n",
      "   ------------------- -------------------- 5.5/11.5 MB 9.6 MB/s eta 0:00:01\n",
      "   -------------------------- ------------- 7.6/11.5 MB 10.0 MB/s eta 0:00:01\n",
      "   --------------------------------- ------ 9.7/11.5 MB 9.7 MB/s eta 0:00:01\n",
      "   ---------------------------------------- 11.5/11.5 MB 9.9 MB/s eta 0:00:00\n",
      "Downloading numpy-2.2.4-cp312-cp312-win_amd64.whl (12.6 MB)\n",
      "   ---------------------------------------- 0.0/12.6 MB ? eta -:--:--\n",
      "   ------- -------------------------------- 2.4/12.6 MB 12.2 MB/s eta 0:00:01\n",
      "   -------------- ------------------------- 4.7/12.6 MB 11.4 MB/s eta 0:00:01\n",
      "   ----------------------- ---------------- 7.3/12.6 MB 11.6 MB/s eta 0:00:01\n",
      "   ------------------------------- -------- 10.0/12.6 MB 11.9 MB/s eta 0:00:01\n",
      "   ---------------------------------------  12.6/12.6 MB 12.1 MB/s eta 0:00:01\n",
      "   ---------------------------------------- 12.6/12.6 MB 11.8 MB/s eta 0:00:00\n",
      "Downloading pytz-2025.2-py2.py3-none-any.whl (509 kB)\n",
      "Downloading tzdata-2025.2-py2.py3-none-any.whl (347 kB)\n",
      "Installing collected packages: pytz, tzdata, numpy, pandas\n",
      "Successfully installed numpy-2.2.4 pandas-2.2.3 pytz-2025.2 tzdata-2025.2\n"
     ]
    }
   ],
   "source": [
    "! pip install pandas  numpy\n"
   ]
  },
  {
   "cell_type": "code",
   "execution_count": 1,
   "metadata": {},
   "outputs": [
    {
     "name": "stdout",
     "output_type": "stream",
     "text": [
      "MAking custom dataset\n"
     ]
    }
   ],
   "source": [
    "import pandas as pd\n",
    "import numpy as np\n",
    "\n",
    "# Configuration\n",
    "data_size = 1200  # 100 years of monthly data\n",
    "years = np.tile(np.arange(1925, 2025), 12)[:data_size]\n",
    "months = np.tile(np.arange(1, 13), 100)[:data_size]\n",
    "\n",
    "np.random.seed(42)\n",
    "\n",
    "# Generate synthetic data\n",
    "df = pd.DataFrame({\n",
    "    \"year\": years,\n",
    "    \"month\": months,\n",
    "    \"total_shipments_in\": np.random.randint(100, 1000, size=data_size),\n",
    "    \"total_shipments_out\": np.random.randint(100, 1000, size=data_size),\n",
    "    \"number_of_employees\": np.random.randint(10, 100, size=data_size),\n",
    "})\n",
    "\n",
    "# Target variable: labour_hours\n",
    "# Assumption: Labour hours influenced by:\n",
    "# - Shipments in (receiving labor)\n",
    "# - Shipments out (dispatching labor)\n",
    "# - Number of employees\n",
    "# - Some noise\n",
    "df[\"labour_hours\"] = (\n",
    "    df[\"total_shipments_in\"] * 0.4 +\n",
    "    df[\"total_shipments_out\"] * 0.5 +\n",
    "    df[\"number_of_employees\"] * 6 +\n",
    "    np.random.normal(0, 100, size=data_size)  # noise\n",
    ")\n",
    "\n",
    "# Round the labour_hours for readability\n",
    "df[\"labour_hours\"] = df[\"labour_hours\"].round(2)\n",
    "\n",
    "# Save dataset\n",
    "df.to_csv(\"dataset.csv\", index=False)\n",
    "print(\"✅ dataset.csv generated with realistic warehouse-style features (1,200 rows)\")\n"
   ]
  },
  {
   "cell_type": "code",
   "execution_count": null,
   "metadata": {},
   "outputs": [],
   "source": []
  }
 ],
 "metadata": {
  "kernelspec": {
   "display_name": ".venv",
   "language": "python",
   "name": "python3"
  },
  "language_info": {
   "codemirror_mode": {
    "name": "ipython",
    "version": 3
   },
   "file_extension": ".py",
   "mimetype": "text/x-python",
   "name": "python",
   "nbconvert_exporter": "python",
   "pygments_lexer": "ipython3",
   "version": "3.12.2"
  }
 },
 "nbformat": 4,
 "nbformat_minor": 2
}
